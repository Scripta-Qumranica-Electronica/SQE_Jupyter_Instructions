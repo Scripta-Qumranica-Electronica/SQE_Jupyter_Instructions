{
 "cells": [
  {
   "cell_type": "markdown",
   "metadata": {},
   "source": [
    "# Retrieving text with the SQE API\n",
    "\n",
    "Text retrieval using the SQE API works for both authenticated and unauthenticated requests using a JSON Web Token in the Header of the request. This token is provided in the response to successful login to an activated user account. If protected data is requested without proper authentication, then an access error is returned.\n",
    "\n",
    "This document will describe access to publicly accessible transcriptions, so the issue of authentication is not relevant for this use case."
   ]
  },
  {
   "cell_type": "markdown",
   "metadata": {},
   "source": [
    "## First pull in the dependencies"
   ]
  },
  {
   "cell_type": "code",
   "execution_count": null,
   "metadata": {},
   "outputs": [],
   "source": [
    "import sys, json, copy\n",
    "from pprint import pprint\n",
    "\n",
    "try:\n",
    "    import requests\n",
    "except ImportError:\n",
    "    !conda install --yes --prefix {sys.prefix} requests\n",
    "    import requests\n",
    "    \n",
    "try:\n",
    "    from genson import SchemaBuilder\n",
    "except ImportError:\n",
    "    !conda install --yes --prefix {sys.prefix} genson\n",
    "    from genson import SchemaBuilder\n",
    "\n",
    "api = \"https://api.qumranica.org/v1\""
   ]
  },
  {
   "cell_type": "markdown",
   "metadata": {},
   "source": [
    "## Making requests\n",
    "\n",
    "The SQE API accepts standard HTTP requests to defined endpoints and will always return a JSON object as a response. I highly recommend exploring the API using our interactive [online SQE API documentation](https://api.qumranica.org/swagger \"SQE API Portal\"). You can get a birds eye view of all the endpoints there, read descriptions of those endpoints, the possible inputs, and the outputs including full specifications of all the data objects used in the communication.\n",
    "\n",
    "\n",
    "### Finding all available scrolls\n",
    "\n",
    "Try, for instance, downloading a list of scrolls with the `GET /editions` endpoint."
   ]
  },
  {
   "cell_type": "code",
   "execution_count": null,
   "metadata": {},
   "outputs": [],
   "source": [
    "r = requests.get(f\"{api}/editions\")\n",
    "editions = r.json()['editions']\n",
    "for edition in editions[0:5]: ## Let's only sample a couple entries\n",
    "    print(json.dumps(edition, indent=2, sort_keys=True, ensure_ascii=False))"
   ]
  },
  {
   "cell_type": "markdown",
   "metadata": {},
   "source": [
    "You can also use the little python function `editionIdByManuscriptName` here to find a edition_id in the API response by its canonical manuscript name. The function returns a list, since there may be more than one version of the edition; the first version of the edition listed is the parent from which all others were forked."
   ]
  },
  {
   "cell_type": "code",
   "execution_count": null,
   "metadata": {},
   "outputs": [],
   "source": [
    "def editionIdByManuscriptName(name):\n",
    "    eid = []\n",
    "    for edition in editions:\n",
    "        for version in edition:\n",
    "            if name == version['name']:\n",
    "                eid.append(version['id'])\n",
    "    return eid\n",
    "\n",
    "manuscriptName = '4Q51'\n",
    "selectedEdition = editionIdByManuscriptName(manuscriptName)\n",
    "if len(selectedEdition) > 0:\n",
    "    selectedEdition = selectedEdition[0]\n",
    "print(f\"The edition id for primary version of {manuscriptName} is {selectedEdition}.\")"
   ]
  },
  {
   "cell_type": "markdown",
   "metadata": {},
   "source": [
    "### Information about a specific edition\n",
    "\n",
    "The API transaction `editions/{editionId}` will provide detailed information about the requested edition including its primary version and any derivative versions."
   ]
  },
  {
   "cell_type": "code",
   "execution_count": null,
   "metadata": {},
   "outputs": [],
   "source": [
    "r = requests.get(f\"{api}/editions/{selectedEdition}\")\n",
    "edition = r.json()\n",
    "print(json.dumps(edition, indent=2, sort_keys=True, ensure_ascii=False))"
   ]
  },
  {
   "cell_type": "markdown",
   "metadata": {},
   "source": [
    "## Information about the transcribed text\n",
    "\n",
    "Text in the SQE database is divided into sections of (presumably) continuous text called \"text fragments\".  The text fragments are composed of lines, the lines are further composed of signs. Each sign can be part of one or more ordering schemes, can have one or more interpretations, and can be linked to one or more words.\n",
    "\n",
    "The GET `editions/{editionId}/text-fragments` endpoint returns the list of text fragments for an edition, in the editor's suggested order."
   ]
  },
  {
   "cell_type": "code",
   "execution_count": null,
   "metadata": {},
   "outputs": [],
   "source": [
    "r = requests.get(f\"{api}/editions/{selectedEdition}/text-fragments\")\n",
    "textFragments = r.json()[\"textFragments\"]\n",
    "for textFragment in textFragments[0:min(len(textFragments), 10)]: ## Let's just look at the first ten\n",
    "    pprint(textFragment, indent=2)\n",
    "selectedTextFragment = textFragments[0][\"id\"]"
   ]
  },
  {
   "cell_type": "markdown",
   "metadata": {},
   "source": [
    "### Transcriptions\n",
    "\n",
    "There are several different ways to work with transcribed text.  After downloading it with the GET `editions/{editionId}/text-fragments/{textFragmentId}` endpoint, you may want to serialize it into something more human freindly or better suited to your computational analysis.  The transcriptions in the database are a DAG, but this call provides ordered arrays along with the necessary information to parse the DAG. The object returned is fairly complex, so I will go through it step by step. The returned object has the following schema, which is explained in detail below."
   ]
  },
  {
   "cell_type": "code",
   "execution_count": null,
   "metadata": {},
   "outputs": [],
   "source": [
    "r = requests.get(f\"{api}/editions/{selectedEdition}/text-fragments/{selectedTextFragment}\")\n",
    "text = r.json()\n",
    "\n",
    "builder = SchemaBuilder()\n",
    "builder.add_object(text)\n",
    "print(json.dumps(builder.to_schema(), indent=2, sort_keys=False, ensure_ascii=False))"
   ]
  },
  {
   "cell_type": "markdown",
   "metadata": {},
   "source": [
    "An actual object looks like this."
   ]
  },
  {
   "cell_type": "code",
   "execution_count": null,
   "metadata": {},
   "outputs": [],
   "source": [
    "print(json.dumps(text, indent=2, sort_keys=True, ensure_ascii=False))"
   ]
  },
  {
   "cell_type": "markdown",
   "metadata": {},
   "source": [
    "## Structure of the text object\n",
    "\n",
    "The text object contains several top level properties.  It contains a lincense with the copyright holder and collaborators automatically generated from the user information in the database. It provides a list of editors (this serves as a key for all the editorId properties at all levels of the text object).  And it provides edition name and a unique manuscriptId."
   ]
  },
  {
   "cell_type": "code",
   "execution_count": null,
   "metadata": {},
   "outputs": [],
   "source": [
    "trimmedTextObject = copy.deepcopy(text)\n",
    "del trimmedTextObject[\"textFragments\"]\n",
    "\n",
    "pprint(text, depth=3)"
   ]
  },
  {
   "cell_type": "markdown",
   "metadata": {},
   "source": [
    "### Nested objects\n",
    "\n",
    "The textFragments property contains a list of text fragments. In this case we asked for only one, so there is only one entity in the list. Each text fragment entity has a list of lines, which provides the line name, the line id, and a list of signs in the line (the signs have been removed here to make it more readable)."
   ]
  },
  {
   "cell_type": "code",
   "execution_count": null,
   "metadata": {},
   "outputs": [],
   "source": [
    "pprint(text[\"textFragments\"][0], depth=3)"
   ]
  },
  {
   "cell_type": "markdown",
   "metadata": {},
   "source": [
    "#### Lines and Sign interpretation metadata\n",
    "\n",
    "The line contains a list of signs, each of which will contain a list of interpretations and of possible next interpretations.  The next interpretation ids can be used to reconstruct all possible reading orders of the signs.  The order of signs in the list is the default ordering, which should match the order of the text on the manuscript itself.  Each element will have one or more sign interpretaions in the \"signInterpretations\" property. These entities have an id a \"signInterpretation\" which may be a character or may be empty if the sign interpretation has to do with formatting (like a space, or start of damage, etc.).  The formatting metadata associated with the sign interpretation is in the \"attributes\" entity. Each attribute has an id, a code, and possible a numerical value.  The codes are:\n",
    "\n",
    "attribute_value_id | name | string_value | description\n",
    "--- | --- | --- | ---\n",
    "1 | sign_type | LETTER | Type of char\n",
    "2 | sign_type | SPACE | Type of char\n",
    "3 | sign_type | POSSIBLE_VACAT | Type of char\n",
    "4 | sign_type | VACAT | Type of char\n",
    "5 | sign_type | DAMAGE | Type of char\n",
    "6 | sign_type | BLANK LINE | Type of char\n",
    "7 | sign_type | PARAGRAPH_MARKER | Type of char\n",
    "8 | sign_type | LACUNA | Type of char\n",
    "9 | sign_type | BREAK | Type of char\n",
    "10 | break_type | LINE\\_START | Defines a Metasign as marking of line\n",
    "11 | break_type | LINE\\_END | Defines a Metasign as marking of line\n",
    "12 | break_type | COLUMN\\_START | Defines a Metasign as marking of line\n",
    "13 | break_type | COLUMN\\_END | Defines a Metasign as marking of line\n",
    "14 | break_type | MANUSCRIPT\\_START | Defines a Metasign as marking of line\n",
    "15 | break_type | MANUSCRIPT\\_END | Defines a Metasign as marking of line\n",
    "17 | might_be_wider | TRUE | Set to true if the width of the sign mght be wider than the given width\n",
    "18 | readability | INCOMPLETE\\_BUT\\_CLEAR | The trad. DJD marking of readability\n",
    "19 | readability | INCOMPLETE\\_AND\\_NOT\\_CLEAR | The trad. DJD marking of readability\n",
    "20 | is_reconstructed | TRUE | true if the letter is totally reconstructed (brackets are not part of the sign stream!)\n",
    "21 | editorial_flag | CONJECTURE | Opinions of the editor like conjecture\n",
    "22 | editorial_flag | SHOULD\\_BE\\_ADDED | Opinions of the editor like conjecture\n",
    "23 | editorial_flag | SHOULD\\_BE\\_DELETED | Opinions of the editor like conjecture\n",
    "24 | correction | OVERWRITTEN | Correction marks added by a scribe\n",
    "25 | correction | HORIZONTAL\\_LINE | Correction marks added by a scribe\n",
    "26 | correction | DIAGONAL\\_LEFT\\_LINE | Correction marks added by a scribe\n",
    "27 | correction | DIAGONAL\\_RIGHT\\_LINE | Correction marks added by a scribe\n",
    "28 | correction | DOT\\_BELOW | Correction marks added by a scribe\n",
    "29 | correction | DOT\\_ABOVE | Correction marks added by a scribe\n",
    "30 | correction | LINE\\_BELOW | Correction marks added by a scribe\n",
    "31 | correction | LINE\\_ABOVE | Correction marks added by a scribe\n",
    "32 | correction | BOXED | Correction marks added by a scribe\n",
    "33 | correction | ERASED | Correction marks added by a scribe\n",
    "34 | relative_position | ABOVE\\_LINE | Position relative to line context\n",
    "35 | relative_position | BELOW\\_LINE | Position relative to line context\n",
    "36 | relative_position | LEFT\\_MARGIN | Position relative to line context\n",
    "37 | relative_position | RIGHT\\_MARGIN | Position relative to line context\n",
    "38 | relative_position | MARGIN | Position relative to line context\n",
    "39 | relative_position | UPPER\\_MARGIN | Position relative to line context\n",
    "40 | relative_position | LOWER\\_MARGIN | Position relative to line context\n",
    "\n"
   ]
  },
  {
   "cell_type": "code",
   "execution_count": null,
   "metadata": {},
   "outputs": [],
   "source": [
    "trimmedSigns = text[\"textFragments\"][0][\"lines\"][0][\"signs\"]\n",
    "for sign in trimmedSigns[0:10]:\n",
    "    pprint(sign)"
   ]
  },
  {
   "cell_type": "markdown",
   "metadata": {},
   "source": [
    "#### Serializing the data to a string\n",
    "\n",
    "Perhaps the most simple output type for this data would be a string representation.  This can be achieved by iterating over the data and building a string representation. In this example we will omit reconstructed text (i.e., text with an attribute having the id 20, see line 18 below)."
   ]
  },
  {
   "cell_type": "code",
   "execution_count": null,
   "metadata": {},
   "outputs": [],
   "source": [
    "def readFragments(text):\n",
    "    formattedString = \"\"\n",
    "    for textFragment in text['textFragments']:\n",
    "        formattedString += f\"\\nText fragment {textFragment['textFragmentName']}:\\n\"\n",
    "        formattedString = readLines(textFragment, formattedString)\n",
    "        \n",
    "    return formattedString\n",
    "\n",
    "def readLines(textFragment, formattedString):\n",
    "    for line in textFragment['lines']:\n",
    "        formattedString += f\"line {line['lineName']}:\\n\"\n",
    "        formattedString = readSigns(line, formattedString) + \"\\n\"\n",
    "        \n",
    "    return formattedString\n",
    "\n",
    "def readSigns(line, formattedString):\n",
    "    for signs in line['signs']:\n",
    "        for signInterpretation in signs['signInterpretations']:\n",
    "            attributes = list(map(lambda x: x['attributeValueId'], signInterpretation['attributes'])) ## Get a list of attribute ids\n",
    "            if 20 not in attributes: ## let's omit reconstructions (attribute id 20)\n",
    "                if 1 in attributes: ## id 1 marks a letter\n",
    "                    formattedString += signInterpretation['signInterpretation']\n",
    "                elif 2 in attributes: ## id 2 marks a space\n",
    "                    formattedString += \" \"\n",
    "                \n",
    "    return formattedString\n",
    "        \n",
    "r = requests.get(f\"{api}/editions/{selectedEdition}/text-fragments/{selectedTextFragment + 3}\") ## Let's grab a bigger text\n",
    "text = r.json()\n",
    "\n",
    "print(readFragments(text))"
   ]
  },
  {
   "cell_type": "markdown",
   "metadata": {},
   "source": [
    "#### Serializing the data to a simpler object\n",
    "\n",
    "We can also serialize the data to a more simple data structure for computational purposes."
   ]
  },
  {
   "cell_type": "code",
   "execution_count": null,
   "metadata": {},
   "outputs": [],
   "source": [
    "r = requests.get(f\"{api}/editions/{selectedEdition}/text-fragments/{selectedTextFragment + 3}\") ## Let's grab a bigger text\n",
    "text = r.json()\n",
    "\n",
    "simplifiedTextObject = {}\n",
    "for textFragment in text['textFragments']:\n",
    "    simplifiedTextObject[textFragment[\"textFragmentName\"]] = []\n",
    "    \n",
    "    for line in textFragment['lines']:\n",
    "        lineObject = {}\n",
    "        lineObject[line['lineName']] = []\n",
    "        \n",
    "        for sign in line['signs']:\n",
    "            for signInterpretation in sign['signInterpretations']:\n",
    "                attributes = list(map(lambda x: x['attributeValueId'], signInterpretation['attributes'])) ## Get a list of attribute ids\n",
    "                if 20 not in attributes: ## let's omit reconstructions (attribute id 20)\n",
    "                    if 1 in attributes: ## id 1 marks a letter\n",
    "                        lineObject[line['lineName']].append(signInterpretation['signInterpretation'])\n",
    "                    elif 2 in attributes: ## id 2 marks a space\n",
    "                        lineObject[line['lineName']].append(\" \")\n",
    "                        \n",
    "        simplifiedTextObject[textFragment[\"textFragmentName\"]].append(lineObject)\n",
    "\n",
    "pprint(simplifiedTextObject, indent=2)"
   ]
  }
 ],
 "metadata": {
  "kernelspec": {
   "display_name": "Python 3",
   "language": "python",
   "name": "python3"
  },
  "language_info": {
   "codemirror_mode": {
    "name": "ipython",
    "version": 3
   },
   "file_extension": ".py",
   "mimetype": "text/x-python",
   "name": "python",
   "nbconvert_exporter": "python",
   "pygments_lexer": "ipython3",
   "version": "3.6.7"
  }
 },
 "nbformat": 4,
 "nbformat_minor": 2
}
